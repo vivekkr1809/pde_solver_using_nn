{
 "cells": [
  {
   "cell_type": "markdown",
   "id": "3edfe3ba-be4f-4b20-adb5-247570d91fbf",
   "metadata": {},
   "source": [
    "## Using physics informed neural networks (PINNs) to solve a 2-D head equation"
   ]
  },
  {
   "cell_type": "markdown",
   "id": "8d103a24",
   "metadata": {},
   "source": [
    "In the following notebook, we implement as physics informed neural network to solve heat equation in two-dimenson. The program implements the following parabolic equation"
   ]
  },
  {
   "cell_type": "markdown",
   "id": "03bc2a82",
   "metadata": {},
   "source": [
    "$$\\frac{\\partial u(\\boldsymbol{x},t)}{\\partial t} - \\Delta u(\\boldsymbol{x},t) = f(\\boldsymbol{x}, t) \\ \\forall \\boldsymbol{x} \\in \\Omega,\\ t \\in (0, T)$$ \n",
    "$$u(\\boldsymbol{x,0}) = u_{0}(\\boldsymbol{x})\\ \\forall \\boldsymbol{x} \\in \\Omega$$\n",
    "$$u(\\boldsymbol{x,t}) = g(\\boldsymbol{x})\\ \\forall \\boldsymbol{x} \\in \\partial\\Omega,\\ t\\in (0,T)$$"
   ]
  },
  {
   "cell_type": "markdown",
   "id": "8cce6299",
   "metadata": {},
   "source": [
    "$\\Omega$ is the domain in $\\mathbb{R}^d$, $\\partial \\Omega$ is the boundary of the domain, $T$ is the final time, $u_0: \\Omega \\rightarrow \\mathbb{R}^d$ is the initial condition"
   ]
  },
  {
   "cell_type": "markdown",
   "id": "93b6cc4b",
   "metadata": {},
   "source": [
    "### Methodology"
   ]
  },
  {
   "cell_type": "markdown",
   "id": "bd9b13e6",
   "metadata": {},
   "source": [
    "The approach is to construct a neural network approximation $u_{\\theta}(\\boldsymbol{x}, t) \\approx u(\\boldsymbol{x}, t)$ of the solution of the PDE. Here $u_{\\theta}: \\Omega \\times[0,T] \\rightarrow \\mathbb{R}^d$. "
   ]
  },
  {
   "cell_type": "code",
   "execution_count": 2,
   "id": "f2cdd415-ed6c-4fd4-ab92-3ad54619d2ce",
   "metadata": {},
   "outputs": [
    {
     "name": "stderr",
     "output_type": "stream",
     "text": [
      "2022-11-05 13:09:32.627662: I tensorflow/core/platform/cpu_feature_guard.cc:193] This TensorFlow binary is optimized with oneAPI Deep Neural Network Library (oneDNN) to use the following CPU instructions in performance-critical operations:  AVX2 FMA\n",
      "To enable them in other operations, rebuild TensorFlow with the appropriate compiler flags.\n",
      "2022-11-05 13:09:37.675109: W tensorflow/stream_executor/platform/default/dso_loader.cc:64] Could not load dynamic library 'libcudart.so.11.0'; dlerror: libcudart.so.11.0: cannot open shared object file: No such file or directory\n",
      "2022-11-05 13:09:37.675152: I tensorflow/stream_executor/cuda/cudart_stub.cc:29] Ignore above cudart dlerror if you do not have a GPU set up on your machine.\n",
      "2022-11-05 13:09:38.248955: E tensorflow/stream_executor/cuda/cuda_blas.cc:2981] Unable to register cuBLAS factory: Attempting to register factory for plugin cuBLAS when one has already been registered\n",
      "2022-11-05 13:09:48.706550: W tensorflow/stream_executor/platform/default/dso_loader.cc:64] Could not load dynamic library 'libnvinfer.so.7'; dlerror: libnvinfer.so.7: cannot open shared object file: No such file or directory\n",
      "2022-11-05 13:09:48.706881: W tensorflow/stream_executor/platform/default/dso_loader.cc:64] Could not load dynamic library 'libnvinfer_plugin.so.7'; dlerror: libnvinfer_plugin.so.7: cannot open shared object file: No such file or directory\n",
      "2022-11-05 13:09:48.706889: W tensorflow/compiler/tf2tensorrt/utils/py_utils.cc:38] TF-TRT Warning: Cannot dlopen some TensorRT libraries. If you would like to use Nvidia GPU with TensorRT, please make sure the missing libraries mentioned above are installed properly.\n"
     ]
    }
   ],
   "source": [
    "import numpy as np\n",
    "import pandas as pd\n",
    "import tensorflow as tf\n",
    "import matplotlib.pyplot as plt\n",
    "import seaborn as sns"
   ]
  },
  {
   "cell_type": "code",
   "execution_count": 3,
   "id": "e842ea17",
   "metadata": {},
   "outputs": [],
   "source": [
    "# Set data type\n",
    "DTYPE = 'float32'\n",
    "tf.keras.backend.set_floatx(DTYPE)"
   ]
  },
  {
   "cell_type": "code",
   "execution_count": 6,
   "id": "80f9dde3",
   "metadata": {},
   "outputs": [
    {
     "name": "stderr",
     "output_type": "stream",
     "text": [
      "2022-11-05 13:49:18.060191: I tensorflow/stream_executor/cuda/cuda_gpu_executor.cc:966] could not open file to read NUMA node: /sys/bus/pci/devices/0000:01:00.0/numa_node\n",
      "Your kernel may have been built without NUMA support.\n",
      "2022-11-05 13:49:18.060574: W tensorflow/stream_executor/platform/default/dso_loader.cc:64] Could not load dynamic library 'libcudart.so.11.0'; dlerror: libcudart.so.11.0: cannot open shared object file: No such file or directory\n",
      "2022-11-05 13:49:18.060778: W tensorflow/stream_executor/platform/default/dso_loader.cc:64] Could not load dynamic library 'libcublas.so.11'; dlerror: libcublas.so.11: cannot open shared object file: No such file or directory\n",
      "2022-11-05 13:49:18.060934: W tensorflow/stream_executor/platform/default/dso_loader.cc:64] Could not load dynamic library 'libcublasLt.so.11'; dlerror: libcublasLt.so.11: cannot open shared object file: No such file or directory\n",
      "2022-11-05 13:49:18.061084: W tensorflow/stream_executor/platform/default/dso_loader.cc:64] Could not load dynamic library 'libcufft.so.10'; dlerror: libcufft.so.10: cannot open shared object file: No such file or directory\n",
      "2022-11-05 13:49:18.061231: W tensorflow/stream_executor/platform/default/dso_loader.cc:64] Could not load dynamic library 'libcurand.so.10'; dlerror: libcurand.so.10: cannot open shared object file: No such file or directory\n",
      "2022-11-05 13:49:18.061381: W tensorflow/stream_executor/platform/default/dso_loader.cc:64] Could not load dynamic library 'libcusolver.so.11'; dlerror: libcusolver.so.11: cannot open shared object file: No such file or directory\n",
      "2022-11-05 13:49:18.061529: W tensorflow/stream_executor/platform/default/dso_loader.cc:64] Could not load dynamic library 'libcusparse.so.11'; dlerror: libcusparse.so.11: cannot open shared object file: No such file or directory\n",
      "2022-11-05 13:49:18.061679: W tensorflow/stream_executor/platform/default/dso_loader.cc:64] Could not load dynamic library 'libcudnn.so.8'; dlerror: libcudnn.so.8: cannot open shared object file: No such file or directory\n",
      "2022-11-05 13:49:18.061687: W tensorflow/core/common_runtime/gpu/gpu_device.cc:1934] Cannot dlopen some GPU libraries. Please make sure the missing libraries mentioned above are installed properly if you would like to use GPU. Follow the guide at https://www.tensorflow.org/install/gpu for how to download and setup the required libraries for your platform.\n",
      "Skipping registering GPU devices...\n",
      "2022-11-05 13:49:18.089350: I tensorflow/core/platform/cpu_feature_guard.cc:193] This TensorFlow binary is optimized with oneAPI Deep Neural Network Library (oneDNN) to use the following CPU instructions in performance-critical operations:  AVX2 FMA\n",
      "To enable them in other operations, rebuild TensorFlow with the appropriate compiler flags.\n"
     ]
    }
   ],
   "source": [
    "# Set the value of constants\n",
    "pi = tf.constant(np.pi, dtype=DTYPE)"
   ]
  },
  {
   "cell_type": "code",
   "execution_count": 4,
   "id": "c84a5d16",
   "metadata": {},
   "outputs": [],
   "source": [
    "# Set the PDE\n",
    "\n",
    "# Set the initial condition\n",
    "def fun_u_0(x):\n",
    "    n = x.shape[0]\n",
    "    return tf.zeros((n,1), dtype=DTYPE)"
   ]
  },
  {
   "cell_type": "code",
   "execution_count": 5,
   "id": "9cc29e3c",
   "metadata": {},
   "outputs": [],
   "source": [
    "# Set the boundary condition\n",
    "def fun_u_b(x, t):\n",
    "    n = x.shape[0]\n",
    "    return tf.zeros((n,1), dtype=DTYPE)"
   ]
  },
  {
   "cell_type": "code",
   "execution_count": 7,
   "id": "f14dd31d",
   "metadata": {},
   "outputs": [],
   "source": [
    "# Set the right hand side\n",
    "import math\n",
    "period = 0.2\n",
    "def heat_src(x,t):\n",
    "    n = x.shape[0]\n",
    "    point_within_period = t/period - math.cel(t/period)\n",
    "    if(point_within_period >= 0.0 and point_within_period <= 0.2):\n",
    "        if((x[0] > 0.5) and (x[1] > -0.5)):\n",
    "            return tf.ones((n,1), dtype=DTYPE)\n",
    "        else:\n",
    "            return tf.zeros((n,1), dtype=DTYPE)\n",
    "    elif(point_within_period >= 0.5 and point_within_period <= 0.7):\n",
    "        if((x[0] > -0.5) and (x[1] > 0.5)):\n",
    "            return tf.ones((n,1), dtype=DTYPE)\n",
    "        else:\n",
    "            return tf.zeros((n,1), dtype=DTYPE)\n",
    "    else:\n",
    "        return tf.zeros((n,1), dtype=DTYPE)"
   ]
  },
  {
   "cell_type": "code",
   "execution_count": 8,
   "id": "9fd548fd",
   "metadata": {},
   "outputs": [],
   "source": [
    "# Define the residual\n",
    "def fun_residual(x, t, f_x, u_xx, u_yy, u_t, u):\n",
    "    return f_x + u_xx + u_yy - u_t"
   ]
  },
  {
   "cell_type": "code",
   "execution_count": 9,
   "id": "a9a9ffb6",
   "metadata": {},
   "outputs": [],
   "source": [
    "# Set Final Time\n",
    "T = tf.constant(1., dtype=DTYPE)\n",
    "\n",
    "# Spatial dimensions\n",
    "dim = 2"
   ]
  },
  {
   "cell_type": "code",
   "execution_count": 10,
   "id": "a82dd5e8",
   "metadata": {},
   "outputs": [],
   "source": [
    "a = np.zeros((dim), dtype = DTYPE)\n",
    "b = np.zeros((dim), dtype = DTYPE)"
   ]
  },
  {
   "cell_type": "code",
   "execution_count": null,
   "id": "bf030744",
   "metadata": {},
   "outputs": [],
   "source": [
    "# Set the number of data points\n",
    "\n",
    "N_0 = 100\n",
    "N_b = 100\n",
    "N_r = 10000\n",
    "\n",
    "# Set boundary\n",
    "tmin = 0.0\n",
    "tmax = 1.0\n",
    "xmin = -1.0\n",
    "xmax = 1.0\n",
    "\n",
    "# Lower bounds\n",
    "lb = tf.constant([tmin, xmin], dtype=DTYPE)\n",
    "# Upper bounds\n",
    "ub = tf.constant([tmax, xmax], dtype=DTYPE)\n",
    "\n",
    "# Random seed for reproducible results\n",
    "tf.random.set_seed(42)\n"
   ]
  },
  {
   "cell_type": "code",
   "execution_count": null,
   "id": "390f4404",
   "metadata": {},
   "outputs": [],
   "source": [
    "@tf.function\n",
    "def draw_X(num_samples, a, b):\n",
    "    dim = a.shape[0]\n",
    "    \n"
   ]
  }
 ],
 "metadata": {
  "kernelspec": {
   "display_name": "Python 3.10.6 ('.env': venv)",
   "language": "python",
   "name": "python3"
  },
  "language_info": {
   "codemirror_mode": {
    "name": "ipython",
    "version": 3
   },
   "file_extension": ".py",
   "mimetype": "text/x-python",
   "name": "python",
   "nbconvert_exporter": "python",
   "pygments_lexer": "ipython3",
   "version": "3.10.6"
  },
  "vscode": {
   "interpreter": {
    "hash": "d9dc9a95c2cef050ed829f0b436a41468d7efb15fb65a06671597c6fc7208e41"
   }
  }
 },
 "nbformat": 4,
 "nbformat_minor": 5
}
